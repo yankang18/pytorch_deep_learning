{
 "cells": [
  {
   "cell_type": "markdown",
   "metadata": {},
   "source": [
    "# Classifying Fashion-MNIST\n",
    "\n",
    "Now it's your turn to build and train a neural network. You'll be using the [Fashion-MNIST dataset](https://github.com/zalandoresearch/fashion-mnist), a drop-in replacement for the MNIST dataset. MNIST is actually quite trivial with neural networks where you can easily achieve better than 97% accuracy. Fashion-MNIST is a set of 28x28 greyscale images of clothes. It's more complex than MNIST, so it's a better representation of the actual performance of your network, and a better representation of datasets you'll use in the real world.\n",
    "\n",
    "<img src='assets/fashion-mnist-sprite.png' width=500px>\n",
    "\n",
    "In this notebook, you'll build your own neural network. For the most part, you could just copy and paste the code from Part 3, but you wouldn't be learning. It's important for you to write the code yourself and get it to work. Feel free to consult the previous notebook though as you work through this.\n",
    "\n",
    "First off, let's load the dataset through torchvision."
   ]
  },
  {
   "cell_type": "code",
   "execution_count": 95,
   "metadata": {},
   "outputs": [
    {
     "name": "stdout",
     "output_type": "stream",
     "text": [
      "n_val_set 5000\n",
      "n_test_set 5000\n"
     ]
    }
   ],
   "source": [
    "import torch\n",
    "from torchvision import datasets, transforms\n",
    "import helper\n",
    "\n",
    "# Define a transform to normalize the data\n",
    "transform = transforms.Compose([transforms.ToTensor(),\n",
    "                                transforms.Normalize((0.5, 0.5, 0.5), (0.5, 0.5, 0.5))])\n",
    "# Download and load the training data\n",
    "trainset = datasets.FashionMNIST('F_MNIST_data/', download=True, train=True, transform=transform)\n",
    "trainloader = torch.utils.data.DataLoader(trainset, batch_size=128, shuffle=True)\n",
    "\n",
    "# Download and load the test data\n",
    "testset = datasets.FashionMNIST('F_MNIST_data/', download=True, train=False, transform=transform)\n",
    "n_test_set = len(testset)\n",
    "n_val_set = int(n_test_set/2)\n",
    "n_test_set = n_test_set - n_val_set\n",
    "\n",
    "print(\"n_val_set\", n_val_set)\n",
    "print(\"n_test_set\", n_test_set)\n",
    "\n",
    "# Randomly split the test_set into test_set and val_set\n",
    "testset, valset = torch.utils.data.random_split(testset, [n_test_set, n_val_set])\n",
    "testloader = torch.utils.data.DataLoader(testset, batch_size=128, shuffle=True)\n",
    "valloader = torch.utils.data.DataLoader(valset, batch_size=128, shuffle=True)"
   ]
  },
  {
   "cell_type": "markdown",
   "metadata": {},
   "source": [
    "Here we can see one of the images."
   ]
  },
  {
   "cell_type": "code",
   "execution_count": 96,
   "metadata": {},
   "outputs": [
    {
     "name": "stdout",
     "output_type": "stream",
     "text": [
      "image shape: torch.Size([128, 1, 28, 28])\n",
      "label shape: torch.Size([128])\n"
     ]
    },
    {
     "data": {
      "image/png": "[encoded data removed]",
      "text/plain": [
       "<Figure size 432x288 with 1 Axes>"
      ]
     },
     "metadata": {
      "image/png": {
       "height": 233,
       "width": 233
      }
     },
     "output_type": "display_data"
    }
   ],
   "source": [
    "image, label = next(iter(trainloader))\n",
    "print(\"image shape:\", image.shape)\n",
    "print(\"label shape:\", label.shape)\n",
    "helper.imshow(image[0,:]);"
   ]
  },
  {
   "cell_type": "markdown",
   "metadata": {},
   "source": [
    "With the data loaded, it's time to import the necessary packages."
   ]
  },
  {
   "cell_type": "code",
   "execution_count": 97,
   "metadata": {},
   "outputs": [],
   "source": [
    "%matplotlib inline\n",
    "%config InlineBackend.figure_format = 'retina'\n",
    "\n",
    "import matplotlib.pyplot as plt\n",
    "import numpy as np\n",
    "import time\n",
    "\n",
    "import torch\n",
    "from torch import nn\n",
    "from torch import optim\n",
    "import torch.nn.functional as F\n",
    "from torchvision import datasets, transforms\n",
    "\n",
    "import helper"
   ]
  },
  {
   "cell_type": "markdown",
   "metadata": {},
   "source": [
    "## Building the network\n",
    "\n",
    "Here you should define your network. As with MNIST, each image is 28x28 which is a total of 784 pixels, and there are 10 classes. You should include at least one hidden layer. We suggest you use ReLU activations for the layers and to return the logits from the forward pass. It's up to you how many layers you add and the size of those layers."
   ]
  },
  {
   "cell_type": "code",
   "execution_count": 98,
   "metadata": {},
   "outputs": [],
   "source": [
    "# Define network architecture\n",
    "class ResidualBlock(nn.Module):\n",
    "    def __init__(self, in_channels, out_channels, stride=1):\n",
    "        super(ResidualBlock, self).__init__()\n",
    "        \n",
    "        # Conv Layer 1\n",
    "        self.conv1 = nn.Conv2d(kernel_size=(3, 3), in_channels=in_channels, out_channels=out_channels, \n",
    "                               stride=stride, padding=1, bias=False)\n",
    "        self.batch_norm1 = nn.BatchNorm2d(out_channels)\n",
    "        \n",
    "        # Conv Layer 2\n",
    "        self.conv2 = nn.Conv2d(kernel_size=(3, 3), in_channels=out_channels, out_channels=out_channels, \n",
    "                               stride=1, padding=1, bias=False)\n",
    "        self.batch_norm2 = nn.BatchNorm2d(out_channels)\n",
    "        \n",
    "        # Shortcut connection to downsample residual\n",
    "        # In case the output dimensions of the residual block is not the same \n",
    "        # as it's input, have a convolutional layer downsample the layer \n",
    "        # being bought forward by approporate striding and filters\n",
    "        self.shortcut = nn.Sequential()\n",
    "        if in_channels != out_channels and stride != 1:\n",
    "            self.shortcut = nn.Sequential(\n",
    "                nn.Conv2d(kernel_size=(1, 1), in_channels=in_channels, out_channels=out_channels, \n",
    "                          stride=stride, bias=False),\n",
    "                nn.BatchNorm2d(out_channels)\n",
    "            )\n",
    "    \n",
    "    def forward(self, x):\n",
    "        out = nn.ReLU()(self.batch_norm1(self.conv1(x)))\n",
    "        out = self.batch_norm2(self.conv2(out))\n",
    "        out += self.shortcut(x)\n",
    "        out = nn.ReLU()(out)\n",
    "        return out\n",
    "            "
   ]
  },
  {
   "cell_type": "code",
   "execution_count": 99,
   "metadata": {},
   "outputs": [],
   "source": [
    "class ResNet(nn.Module):\n",
    "    def __init__(self, num_classes=10, input_channels=3):\n",
    "        super(ResNet, self).__init__()\n",
    "        \n",
    "        self.conv1 = nn.Conv2d(\n",
    "            kernel_size=(3, 3), in_channels=input_channels, out_channels=64, stride=1, padding=1, bias=False)\n",
    "        self.batch_norm1 = nn.BatchNorm2d(64)\n",
    "        \n",
    "        self.block1 = self._create_block(64, 64, stride=1)\n",
    "        self.block2 = self._create_block(64, 128, stride=2)\n",
    "#         self.block3 = self._create_block(128, 256, stride=2)\n",
    "#         self.block4 = self._create_block(256, 512, stride=2)\n",
    "        self.linear = nn.Linear(1152, num_classes)\n",
    "        \n",
    "    def _create_block(self, in_channels, out_channels, stride):\n",
    "        return nn.Sequential(ResidualBlock(in_channels, out_channels, stride),\n",
    "                             ResidualBlock(out_channels, out_channels, 1))\n",
    "    \n",
    "    def forward(self, x):\n",
    "        out = nn.ReLU()(self.batch_norm1(self.conv1(x)))\n",
    "        out = self.block1(out)\n",
    "        out = self.block2(out)\n",
    "#         out = self.block3(out)\n",
    "#         out = self.block4(out)\n",
    "        out = nn.AvgPool2d(4)(out)\n",
    "        out = out.view(out.size(0), -1)\n",
    "        out = self.linear(out)\n",
    "        return out"
   ]
  },
  {
   "cell_type": "markdown",
   "metadata": {},
   "source": [
    "# Train the network\n",
    "\n",
    "Now you should create your network and train it. First you'll want to define [the criterion](http://pytorch.org/docs/master/nn.html#loss-functions) ( something like `nn.CrossEntropyLoss`) and [the optimizer](http://pytorch.org/docs/master/optim.html) (typically `optim.SGD` or `optim.Adam`).\n",
    "\n",
    "Then write the training code. Remember the training pass is a fairly straightforward process:\n",
    "\n",
    "* Make a forward pass through the network to get the logits \n",
    "* Use the logits to calculate the loss\n",
    "* Perform a backward pass through the network with `loss.backward()` to calculate the gradients\n",
    "* Take a step with the optimizer to update the weights\n",
    "\n",
    "By adjusting the hyperparameters (hidden units, learning rate, etc), you should be able to get the training loss below 0.4."
   ]
  },
  {
   "cell_type": "code",
   "execution_count": 100,
   "metadata": {},
   "outputs": [],
   "source": [
    "# Create the network, define the criterion and optimizer\n",
    "model = ResNet(input_channels=1)\n",
    "loss_func = nn.CrossEntropyLoss()\n",
    "optimizer = optim.Adam(model.parameters(), lr=0.01)"
   ]
  },
  {
   "cell_type": "code",
   "execution_count": 101,
   "metadata": {},
   "outputs": [
    {
     "name": "stdout",
     "output_type": "stream",
     "text": [
      "epoch:0, batch index:0, loss:2.410130739212036, acc:10.079999923706055\n",
      "epoch:0, batch index:10, loss:3.606555938720703, acc:25.639999389648438\n",
      "epoch:0, batch index:20, loss:2.548687364373888, acc:28.860000610351562\n",
      "epoch:0, batch index:30, loss:2.039760808790884, acc:24.299999237060547\n",
      "epoch:0, batch index:40, loss:1.7407561962197466, acc:70.12000274658203\n",
      "epoch:0, batch index:50, loss:1.5496522433617537, acc:72.18000030517578\n",
      "epoch:0, batch index:60, loss:1.4173766355045507, acc:68.37999725341797\n",
      "epoch:0, batch index:70, loss:1.3153122302512048, acc:68.27999877929688\n",
      "epoch:0, batch index:80, loss:1.2373989150847917, acc:67.33999633789062\n",
      "epoch:0, batch index:90, loss:1.1683329412570367, acc:72.80000305175781\n",
      "epoch:0, batch index:100, loss:1.112819378033723, acc:73.69999694824219\n",
      "epoch:0, batch index:110, loss:1.0708353704697378, acc:77.33999633789062\n",
      "epoch:0, batch index:120, loss:1.0304617677345749, acc:78.72000122070312\n",
      "epoch:0, batch index:130, loss:0.9910255677372445, acc:77.77999877929688\n",
      "epoch:0, batch index:140, loss:0.9571930197536522, acc:53.81999969482422\n",
      "epoch:0, batch index:150, loss:0.9273608982168287, acc:77.68000030517578\n",
      "epoch:0, batch index:160, loss:0.9036976274866495, acc:78.55999755859375\n",
      "epoch:0, batch index:170, loss:0.8837564842045655, acc:77.9800033569336\n",
      "epoch:0, batch index:180, loss:0.8621838869969489, acc:57.939998626708984\n",
      "epoch:0, batch index:190, loss:0.8420065577429626, acc:78.86000061035156\n",
      "epoch:0, batch index:200, loss:0.8251966447082918, acc:78.72000122070312\n",
      "epoch:0, batch index:210, loss:0.81115526299906, acc:79.08000183105469\n",
      "epoch:0, batch index:220, loss:0.796623006665329, acc:81.83999633789062\n",
      "epoch:0, batch index:230, loss:0.7825219236411057, acc:74.19999694824219\n",
      "epoch:0, batch index:240, loss:0.769829177139211, acc:81.54000091552734\n",
      "epoch:0, batch index:250, loss:0.7586079610890126, acc:82.26000213623047\n",
      "epoch:0, batch index:260, loss:0.7471401059421999, acc:39.540000915527344\n",
      "epoch:0, batch index:270, loss:0.7354522080768958, acc:80.31999969482422\n",
      "epoch:0, batch index:280, loss:0.726072793912633, acc:84.16000366210938\n",
      "epoch:0, batch index:290, loss:0.7154333703603941, acc:82.27999877929688\n",
      "epoch:0, batch index:300, loss:0.7061859115314643, acc:84.19999694824219\n",
      "epoch:0, batch index:310, loss:0.6981233384735714, acc:73.13999938964844\n",
      "epoch:0, batch index:320, loss:0.6892878295755089, acc:83.66000366210938\n",
      "epoch:0, batch index:330, loss:0.6801730006753138, acc:84.68000030517578\n",
      "epoch:0, batch index:340, loss:0.6742376680335691, acc:84.36000061035156\n",
      "epoch:0, batch index:350, loss:0.666789861613529, acc:84.9800033569336\n",
      "epoch:0, batch index:360, loss:0.6588531562083315, acc:83.27999877929688\n",
      "epoch:0, batch index:370, loss:0.6511237850648695, acc:80.0\n",
      "epoch:0, batch index:380, loss:0.6435106824154616, acc:84.77999877929688\n",
      "epoch:0, batch index:390, loss:0.6358557801950923, acc:81.9000015258789\n",
      "epoch:0, batch index:400, loss:0.6304542491040622, acc:81.30000305175781\n",
      "epoch:0, batch index:410, loss:0.624322748931075, acc:86.23999786376953\n",
      "epoch:0, batch index:420, loss:0.6178722117901415, acc:85.41999816894531\n",
      "epoch:0, batch index:430, loss:0.6114073955127646, acc:84.95999908447266\n",
      "epoch:0, batch index:440, loss:0.6059878305986084, acc:82.9000015258789\n",
      "epoch:0, batch index:450, loss:0.6002426175214763, acc:85.0\n",
      "epoch:0, batch index:460, loss:0.5950983972844229, acc:86.69999694824219\n"
     ]
    }
   ],
   "source": [
    "# TODO: Train the network here\n",
    "\n",
    "model.train()\n",
    "for epoch in range(1):\n",
    "    \n",
    "    loss_list=[]\n",
    "    for batch_idx, (images, labels) in enumerate(trainloader):\n",
    "        \n",
    "        optimizer.zero_grad()\n",
    "        outputs = model(images)\n",
    "        loss = loss_func(outputs, labels)\n",
    "        loss.backward()\n",
    "        optimizer.step()\n",
    "        \n",
    "        loss_list.append(loss.item())\n",
    "        \n",
    "        if batch_idx % 10 == 0:\n",
    "            model.eval()\n",
    "            total=0\n",
    "            correct = 0\n",
    "            with torch.no_grad():\n",
    "                for _, (images, labels) in enumerate(valloader):\n",
    "                    outputs_val = model(images)\n",
    "                    _, predicted = torch.max(outputs_val.data, 1)\n",
    "                    total += labels.size(0)\n",
    "                    correct += predicted.eq(labels.data).sum()\n",
    "                    \n",
    "                acc=100.*correct/total\n",
    "            print(\"epoch:{0}, batch index:{1}, loss:{2}, acc:{3}\"\n",
    "                  .format(epoch, batch_idx, np.mean(loss_list), acc))\n",
    "            model.train()\n",
    "                "
   ]
  },
  {
   "cell_type": "code",
   "execution_count": 107,
   "metadata": {},
   "outputs": [
    {
     "name": "stdout",
     "output_type": "stream",
     "text": [
      "img shape: torch.Size([1, 28, 28])\n",
      "torch.Size([1, 10])\n"
     ]
    },
    {
     "data": {
      "image/png": "[encoded data removed]",
      "text/plain": [
       "<Figure size 432x648 with 2 Axes>"
      ]
     },
     "metadata": {
      "image/png": {
       "height": 204,
       "width": 423
      }
     },
     "output_type": "display_data"
    }
   ],
   "source": [
    "# Test out your network!\n",
    "\n",
    "dataiter = iter(testloader)\n",
    "images, labels = dataiter.next()\n",
    "img = images[0]\n",
    "print(\"img shape:\", img.shape)\n",
    "# Convert img to the input format in which the first dimension is batch size\n",
    "img = img.resize_(1, img.shape[0], img.shape[1], img.shape[2])\n",
    "\n",
    "# Calculate the class probabilities (softmax) for img\n",
    "with torch.no_grad():\n",
    "    output = model.forward(img)\n",
    "\n",
    "# ps = torch.exp(output)\n",
    "ps = F.softmax(output, dim=1)\n",
    "print(ps.shape)\n",
    "\n",
    "# Plot the image and probabilities\n",
    "helper.view_classify(img.resize_(1, 28, 28), ps, version='Fashion')"
   ]
  },
  {
   "cell_type": "markdown",
   "metadata": {},
   "source": [
    "Now that your network is trained, you'll want to save it to disk so you can load it later instead of training it again. Obviously, it's impractical to train a network every time you need one. In practice, you'll train it once, save the model, then reload it for further training or making predictions. In the next part, I'll show you how to save and load trained models."
   ]
  },
  {
   "cell_type": "code",
   "execution_count": 4,
   "metadata": {},
   "outputs": [
    {
     "name": "stdout",
     "output_type": "stream",
     "text": [
      "4.99 µs ± 530 ns per loop (mean ± std. dev. of 7 runs, 100000 loops each)\n",
      "12.6 µs ± 159 ns per loop (mean ± std. dev. of 7 runs, 100000 loops each)\n"
     ]
    }
   ],
   "source": [
    "import numpy as np\n",
    "import torch\n",
    "\n",
    "data = np.random.randn(512)\n",
    "t_data = torch.tensor(data)\n",
    "# ct_data = torch.tensor(data, device='cuda')\n",
    "\n",
    "%timeit np.nonzero(data)\n",
    "#4.02 µs ± 54 ns per loop (mean ± std. dev. of 7 runs, 100000 loops each)\n",
    "\n",
    "%timeit torch.nonzero(t_data)\n",
    "#23.7 µs ± 269 ns per loop (mean ± std. dev. of 7 runs, 10000 loops each)\n",
    "\n",
    "# %timeit torch.nonzero(ct_data)                                                                                                                                                                                                        \n",
    "#31.6 µs ± 148 ns per loop (mean ± std. dev. of 7 runs, 10000 loops each)"
   ]
  },
  {
   "cell_type": "code",
   "execution_count": 7,
   "metadata": {},
   "outputs": [
    {
     "name": "stdout",
     "output_type": "stream",
     "text": [
      "336 µs ± 5.63 µs per loop (mean ± std. dev. of 7 runs, 1000 loops each)\n",
      "1.49 ms ± 142 µs per loop (mean ± std. dev. of 7 runs, 1000 loops each)\n"
     ]
    }
   ],
   "source": [
    "import numpy as np\n",
    "import torch\n",
    "data = np.random.randn(16, 3, 512)\n",
    "t_data = torch.tensor(data)\n",
    "# ct_data = torch.as_tensor(data, device='cuda')\n",
    "\n",
    "%timeit np.nonzero(data)\n",
    "#270 µs ± 2.58 µs per loop (mean ± std. dev. of 7 runs, 1000 loops each)\n",
    "\n",
    "%timeit torch.nonzero(t_data)\n",
    "#3.09 ms ± 181 µs per loop (mean ± std. dev. of 7 runs, 100 loops each)\n",
    "\n",
    "# %timeit torch.nonzero(ct_data)                                                                                                                                                                                                        \n",
    "#38.9 µs ± 348 ns per loop (mean ± std. dev. of 7 runs, 10000 loops each)"
   ]
  },
  {
   "cell_type": "code",
   "execution_count": null,
   "metadata": {},
   "outputs": [],
   "source": []
  }
 ],
 "metadata": {
  "kernelspec": {
   "display_name": "opencv",
   "language": "python",
   "name": "opencv"
  },
  "language_info": {
   "codemirror_mode": {
    "name": "ipython",
    "version": 3
   },
   "file_extension": ".py",
   "mimetype": "text/x-python",
   "name": "python",
   "nbconvert_exporter": "python",
   "pygments_lexer": "ipython3",
   "version": "3.6.5"
  }
 },
 "nbformat": 4,
 "nbformat_minor": 2
}
