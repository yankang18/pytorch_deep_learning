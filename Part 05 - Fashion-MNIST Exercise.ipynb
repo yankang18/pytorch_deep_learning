{
 "cells": [
  {
   "cell_type": "markdown",
   "metadata": {},
   "source": [
    "# Classifying Fashion-MNIST\n",
    "\n",
    "Now it's your turn to build and train a neural network. You'll be using the [Fashion-MNIST dataset](https://github.com/zalandoresearch/fashion-mnist), a drop-in replacement for the MNIST dataset. MNIST is actually quite trivial with neural networks where you can easily achieve better than 97% accuracy. Fashion-MNIST is a set of 28x28 greyscale images of clothes. It's more complex than MNIST, so it's a better representation of the actual performance of your network, and a better representation of datasets you'll use in the real world.\n",
    "\n",
    "<img src='assets/fashion-mnist-sprite.png' width=500px>\n",
    "\n",
    "In this notebook, you'll build your own neural network. For the most part, you could just copy and paste the code from Part 3, but you wouldn't be learning. It's important for you to write the code yourself and get it to work. Feel free to consult the previous notebook though as you work through this.\n",
    "\n",
    "First off, let's load the dataset through torchvision."
   ]
  },
  {
   "cell_type": "code",
   "execution_count": 16,
   "metadata": {},
   "outputs": [
    {
     "name": "stdout",
     "output_type": "stream",
     "text": [
      "n_val_set 5000\n",
      "n_test_set 5000\n"
     ]
    }
   ],
   "source": [
    "import torch\n",
    "from torchvision import datasets, transforms\n",
    "import helper\n",
    "\n",
    "# Define a transform to normalize the data\n",
    "# If the img has three channels, you should have three number for mean, for example, \n",
    "# img is RGB, mean is [0.5, 0.5, 0.5], the normalize result is R * 0.5, G * 0.5, B * 0.5. \n",
    "# If img is grey type that only one channel, so mean should be [0.5], the normalize result is R * 0.5\n",
    "transform = transforms.Compose([transforms.ToTensor(),\n",
    "                                transforms.Normalize([0.5], [0.5])])\n",
    "# Download and load the training data\n",
    "trainset = datasets.FashionMNIST('F_MNIST_data/', download=True, train=True, transform=transform)\n",
    "trainloader = torch.utils.data.DataLoader(trainset, batch_size=128, shuffle=True)\n",
    "\n",
    "# Download and load the test data\n",
    "testset = datasets.FashionMNIST('F_MNIST_data/', download=True, train=False, transform=transform)\n",
    "n_test_set = len(testset)\n",
    "n_val_set = int(n_test_set/2)\n",
    "n_test_set = n_test_set - n_val_set\n",
    "\n",
    "print(\"n_val_set\", n_val_set)\n",
    "print(\"n_test_set\", n_test_set)\n",
    "\n",
    "# Randomly split the test_set into test_set and val_set\n",
    "testset, valset = torch.utils.data.random_split(testset, [n_test_set, n_val_set])\n",
    "testloader = torch.utils.data.DataLoader(testset, batch_size=128, shuffle=True)\n",
    "valloader = torch.utils.data.DataLoader(valset, batch_size=128, shuffle=True)"
   ]
  },
  {
   "cell_type": "markdown",
   "metadata": {},
   "source": [
    "Here we can see one of the images."
   ]
  },
  {
   "cell_type": "code",
   "execution_count": 17,
   "metadata": {},
   "outputs": [
    {
     "name": "stdout",
     "output_type": "stream",
     "text": [
      "image shape: torch.Size([128, 1, 28, 28])\n",
      "label shape: torch.Size([128])\n"
     ]
    },
    {
     "data": {
      "image/png": "[encoded data removed]",
      "text/plain": [
       "<Figure size 432x288 with 1 Axes>"
      ]
     },
     "metadata": {
      "image/png": {
       "height": 231,
       "width": 231
      },
      "needs_background": "light"
     },
     "output_type": "display_data"
    }
   ],
   "source": [
    "image, label = next(iter(trainloader))\n",
    "print(\"image shape:\", image.shape)\n",
    "print(\"label shape:\", label.shape)\n",
    "helper.imshow(image[0,:]);"
   ]
  },
  {
   "cell_type": "markdown",
   "metadata": {},
   "source": [
    "With the data loaded, it's time to import the necessary packages."
   ]
  },
  {
   "cell_type": "code",
   "execution_count": 18,
   "metadata": {},
   "outputs": [],
   "source": [
    "%matplotlib inline\n",
    "%config InlineBackend.figure_format = 'retina'\n",
    "\n",
    "import matplotlib.pyplot as plt\n",
    "import numpy as np\n",
    "import time\n",
    "\n",
    "import torch\n",
    "from torch import nn\n",
    "from torch import optim\n",
    "import torch.nn.functional as F\n",
    "from torchvision import datasets, transforms\n",
    "\n",
    "import helper"
   ]
  },
  {
   "cell_type": "markdown",
   "metadata": {},
   "source": [
    "## Building the network\n",
    "\n",
    "Here you should define your network. As with MNIST, each image is 28x28 which is a total of 784 pixels, and there are 10 classes. You should include at least one hidden layer. We suggest you use ReLU activations for the layers and to return the logits from the forward pass. It's up to you how many layers you add and the size of those layers."
   ]
  },
  {
   "cell_type": "code",
   "execution_count": 19,
   "metadata": {},
   "outputs": [],
   "source": [
    "# Define network architecture\n",
    "class ResidualBlock(nn.Module):\n",
    "    def __init__(self, in_channels, out_channels, stride=1):\n",
    "        super(ResidualBlock, self).__init__()\n",
    "        \n",
    "        # Conv Layer 1\n",
    "        self.conv1 = nn.Conv2d(kernel_size=(3, 3), in_channels=in_channels, out_channels=out_channels, \n",
    "                               stride=stride, padding=1, bias=False)\n",
    "        self.batch_norm1 = nn.BatchNorm2d(out_channels)\n",
    "        \n",
    "        # Conv Layer 2\n",
    "        self.conv2 = nn.Conv2d(kernel_size=(3, 3), in_channels=out_channels, out_channels=out_channels, \n",
    "                               stride=1, padding=1, bias=False)\n",
    "        self.batch_norm2 = nn.BatchNorm2d(out_channels)\n",
    "        \n",
    "        # Shortcut connection to downsample residual\n",
    "        # In case the output dimensions of the residual block is not the same \n",
    "        # as it's input, have a convolutional layer downsample the layer \n",
    "        # being bought forward by approporate striding and filters\n",
    "        self.shortcut = nn.Sequential()\n",
    "        if in_channels != out_channels and stride != 1:\n",
    "            self.shortcut = nn.Sequential(\n",
    "                nn.Conv2d(kernel_size=(1, 1), in_channels=in_channels, out_channels=out_channels, \n",
    "                          stride=stride, bias=False),\n",
    "                nn.BatchNorm2d(out_channels)\n",
    "            )\n",
    "    \n",
    "    def forward(self, x):\n",
    "        out = nn.ReLU()(self.batch_norm1(self.conv1(x)))\n",
    "        out = self.batch_norm2(self.conv2(out))\n",
    "        out += self.shortcut(x)\n",
    "        out = nn.ReLU()(out)\n",
    "        return out\n",
    "            "
   ]
  },
  {
   "cell_type": "code",
   "execution_count": 20,
   "metadata": {},
   "outputs": [],
   "source": [
    "class ResNet(nn.Module):\n",
    "    def __init__(self, num_classes=10, input_channels=3):\n",
    "        super(ResNet, self).__init__()\n",
    "        \n",
    "        self.conv1 = nn.Conv2d(\n",
    "            kernel_size=(3, 3), in_channels=input_channels, out_channels=64, stride=1, padding=1, bias=False)\n",
    "        self.batch_norm1 = nn.BatchNorm2d(64)\n",
    "        \n",
    "        self.block1 = self._create_block(64, 64, stride=1)\n",
    "        self.block2 = self._create_block(64, 128, stride=2)\n",
    "#         self.block3 = self._create_block(128, 256, stride=2)\n",
    "#         self.block4 = self._create_block(256, 512, stride=2)\n",
    "        self.linear = nn.Linear(1152, num_classes)\n",
    "        \n",
    "    def _create_block(self, in_channels, out_channels, stride):\n",
    "        return nn.Sequential(ResidualBlock(in_channels, out_channels, stride),\n",
    "                             ResidualBlock(out_channels, out_channels, 1))\n",
    "    \n",
    "    def forward(self, x):\n",
    "        out = nn.ReLU()(self.batch_norm1(self.conv1(x)))\n",
    "        out = self.block1(out)\n",
    "        out = self.block2(out)\n",
    "#         out = self.block3(out)\n",
    "#         out = self.block4(out)\n",
    "        out = nn.AvgPool2d(4)(out)\n",
    "        out = out.view(out.size(0), -1)\n",
    "        out = self.linear(out)\n",
    "        return out"
   ]
  },
  {
   "cell_type": "markdown",
   "metadata": {},
   "source": [
    "# Train the network\n",
    "\n",
    "Now you should create your network and train it. First you'll want to define [the criterion](http://pytorch.org/docs/master/nn.html#loss-functions) ( something like `nn.CrossEntropyLoss`) and [the optimizer](http://pytorch.org/docs/master/optim.html) (typically `optim.SGD` or `optim.Adam`).\n",
    "\n",
    "Then write the training code. Remember the training pass is a fairly straightforward process:\n",
    "\n",
    "* Make a forward pass through the network to get the logits \n",
    "* Use the logits to calculate the loss\n",
    "* Perform a backward pass through the network with `loss.backward()` to calculate the gradients\n",
    "* Take a step with the optimizer to update the weights\n",
    "\n",
    "By adjusting the hyperparameters (hidden units, learning rate, etc), you should be able to get the training loss below 0.4."
   ]
  },
  {
   "cell_type": "code",
   "execution_count": 21,
   "metadata": {},
   "outputs": [],
   "source": [
    "# Create the network, define the criterion and optimizer\n",
    "model = ResNet(input_channels=1)\n",
    "loss_func = nn.CrossEntropyLoss()\n",
    "optimizer = optim.Adam(model.parameters(), lr=0.01)"
   ]
  },
  {
   "cell_type": "code",
   "execution_count": 22,
   "metadata": {},
   "outputs": [
    {
     "name": "stdout",
     "output_type": "stream",
     "text": [
      "epoch:0, batch index:0, loss:2.470595359802246, acc:10.140000343322754\n",
      "epoch:0, batch index:10, loss:4.229300108822909, acc:13.819999694824219\n",
      "epoch:0, batch index:20, loss:2.8138268760272434, acc:48.2400016784668\n",
      "epoch:0, batch index:30, loss:2.183544441576927, acc:66.08000183105469\n",
      "epoch:0, batch index:40, loss:1.8426596202501437, acc:72.05999755859375\n",
      "epoch:0, batch index:50, loss:1.6188020180253422, acc:72.13999938964844\n",
      "epoch:0, batch index:60, loss:1.4650205158796468, acc:77.19999694824219\n",
      "epoch:0, batch index:70, loss:1.3485456251762282, acc:75.63999938964844\n",
      "epoch:0, batch index:80, loss:1.2610262816334947, acc:52.880001068115234\n",
      "epoch:0, batch index:90, loss:1.1891942482728224, acc:75.63999938964844\n",
      "epoch:0, batch index:100, loss:1.1268698543605238, acc:79.26000213623047\n",
      "epoch:0, batch index:110, loss:1.0735582725421802, acc:76.12000274658203\n",
      "epoch:0, batch index:120, loss:1.0337792366496787, acc:80.73999786376953\n",
      "epoch:0, batch index:130, loss:1.0000681740637043, acc:77.30000305175781\n",
      "epoch:0, batch index:140, loss:0.9665991873183148, acc:76.22000122070312\n",
      "epoch:0, batch index:150, loss:0.9354814291000366, acc:81.58000183105469\n",
      "epoch:0, batch index:160, loss:0.9068046189983439, acc:82.12000274658203\n",
      "epoch:0, batch index:170, loss:0.8812514576647017, acc:80.72000122070312\n",
      "epoch:0, batch index:180, loss:0.8578992597964588, acc:81.13999938964844\n",
      "epoch:0, batch index:190, loss:0.8395578037381797, acc:28.6200008392334\n",
      "epoch:0, batch index:200, loss:0.8224793487223819, acc:80.04000091552734\n",
      "epoch:0, batch index:210, loss:0.8052997268489187, acc:72.23999786376953\n",
      "epoch:0, batch index:220, loss:0.7889548185454235, acc:82.33999633789062\n",
      "epoch:0, batch index:230, loss:0.7753860293786763, acc:83.23999786376953\n",
      "epoch:0, batch index:240, loss:0.7612824235961645, acc:84.13999938964844\n",
      "epoch:0, batch index:250, loss:0.747718113352103, acc:84.76000213623047\n",
      "epoch:0, batch index:260, loss:0.7353312135656218, acc:84.66000366210938\n",
      "epoch:0, batch index:270, loss:0.7240870348641794, acc:80.72000122070312\n",
      "epoch:0, batch index:280, loss:0.7134914191380091, acc:84.16000366210938\n",
      "epoch:0, batch index:290, loss:0.7006319290174242, acc:79.81999969482422\n",
      "epoch:0, batch index:300, loss:0.6903271881052822, acc:84.08000183105469\n",
      "epoch:0, batch index:310, loss:0.6797680671767024, acc:85.5999984741211\n",
      "epoch:0, batch index:320, loss:0.6698810564023312, acc:84.08000183105469\n",
      "epoch:0, batch index:330, loss:0.6613295257451671, acc:82.08000183105469\n",
      "epoch:0, batch index:340, loss:0.6532946206257839, acc:83.73999786376953\n",
      "epoch:0, batch index:350, loss:0.6443751183500317, acc:59.400001525878906\n",
      "epoch:0, batch index:360, loss:0.6361402561294736, acc:83.68000030517578\n",
      "epoch:0, batch index:370, loss:0.629943252814748, acc:85.69999694824219\n",
      "epoch:0, batch index:380, loss:0.6238429360971676, acc:38.060001373291016\n",
      "epoch:0, batch index:390, loss:0.6170133138861498, acc:79.54000091552734\n",
      "epoch:0, batch index:400, loss:0.6111016807116177, acc:69.66000366210938\n",
      "epoch:0, batch index:410, loss:0.6053497942114688, acc:86.91999816894531\n",
      "epoch:0, batch index:420, loss:0.6002519728876916, acc:73.4800033569336\n",
      "epoch:0, batch index:430, loss:0.5945562391159429, acc:83.73999786376953\n",
      "epoch:0, batch index:440, loss:0.5883713068943175, acc:84.45999908447266\n",
      "epoch:0, batch index:450, loss:0.5837200500417972, acc:77.80000305175781\n",
      "epoch:0, batch index:460, loss:0.5800556203354466, acc:84.41999816894531\n"
     ]
    }
   ],
   "source": [
    "# Train the network\n",
    "\n",
    "model.train()\n",
    "for epoch in range(1):\n",
    "    \n",
    "    loss_list=[]\n",
    "    for batch_idx, (images, labels) in enumerate(trainloader):\n",
    "        \n",
    "        optimizer.zero_grad()\n",
    "        outputs = model(images)\n",
    "        loss = loss_func(outputs, labels)\n",
    "        loss.backward()\n",
    "        optimizer.step()\n",
    "        \n",
    "        loss_list.append(loss.item())\n",
    "        \n",
    "        if batch_idx % 10 == 0:\n",
    "            model.eval()\n",
    "            total=0\n",
    "            correct = 0\n",
    "            with torch.no_grad():\n",
    "                for _, (images, labels) in enumerate(valloader):\n",
    "                    outputs_val = model(images)\n",
    "                    _, predicted = torch.max(outputs_val.data, 1)\n",
    "                    total += labels.size(0)\n",
    "                    correct += predicted.eq(labels.data).sum()\n",
    "                    \n",
    "                acc=100.*correct/total\n",
    "            print(\"epoch:{0}, batch index:{1}, loss:{2}, acc:{3}\"\n",
    "                  .format(epoch, batch_idx, np.mean(loss_list), acc))\n",
    "            model.train()\n",
    "                "
   ]
  },
  {
   "cell_type": "code",
   "execution_count": 28,
   "metadata": {},
   "outputs": [
    {
     "name": "stdout",
     "output_type": "stream",
     "text": [
      "img shape: torch.Size([1, 28, 28])\n",
      "torch.Size([1, 10])\n"
     ]
    },
    {
     "data": {
      "image/png": "[encoded data removed]",
      "text/plain": [
       "<Figure size 432x648 with 2 Axes>"
      ]
     },
     "metadata": {
      "image/png": {
       "height": 216,
       "width": 424
      },
      "needs_background": "light"
     },
     "output_type": "display_data"
    }
   ],
   "source": [
    "# Test out your network!\n",
    "\n",
    "dataiter = iter(testloader)\n",
    "images, labels = dataiter.next()\n",
    "img = images[0]\n",
    "print(\"img shape:\", img.shape)\n",
    "# Convert img to the input format in which the first dimension is batch size\n",
    "img = img.resize_(1, img.shape[0], img.shape[1], img.shape[2])\n",
    "\n",
    "# Calculate the class probabilities (softmax) for img\n",
    "with torch.no_grad():\n",
    "    output = model.forward(img)\n",
    "\n",
    "# ps = torch.exp(output)\n",
    "ps = F.softmax(output, dim=1)\n",
    "print(ps.shape)\n",
    "\n",
    "# Plot the image and probabilities\n",
    "helper.view_classify(img.resize_(1, 28, 28), ps, version='Fashion')"
   ]
  },
  {
   "cell_type": "code",
   "execution_count": null,
   "metadata": {},
   "outputs": [],
   "source": []
  }
 ],
 "metadata": {
  "kernelspec": {
   "display_name": "Python 3",
   "language": "python",
   "name": "python3"
  },
  "language_info": {
   "codemirror_mode": {
    "name": "ipython",
    "version": 3
   },
   "file_extension": ".py",
   "mimetype": "text/x-python",
   "name": "python",
   "nbconvert_exporter": "python",
   "pygments_lexer": "ipython3",
   "version": "3.7.4"
  }
 },
 "nbformat": 4,
 "nbformat_minor": 2
}
