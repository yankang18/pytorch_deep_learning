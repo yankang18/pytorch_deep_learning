{
 "cells": [
  {
   "cell_type": "markdown",
   "metadata": {},
   "source": [
    "# Neural networks with PyTorch\n",
    "\n",
    "Next I'll show you how to build a neural network with PyTorch."
   ]
  },
  {
   "cell_type": "markdown",
   "metadata": {},
   "source": [
    "## 1. Load Data"
   ]
  },
  {
   "cell_type": "code",
   "execution_count": 1,
   "metadata": {},
   "outputs": [],
   "source": [
    "# Import things like usual\n",
    "\n",
    "%matplotlib inline\n",
    "%config InlineBackend.figure_format = 'retina'\n",
    "\n",
    "import numpy as np\n",
    "import torch\n",
    "\n",
    "import helper\n",
    "\n",
    "import matplotlib.pyplot as plt"
   ]
  },
  {
   "cell_type": "markdown",
   "metadata": {},
   "source": [
    "First up, we need to get our dataset. This is provided through the `torchvision` package. The code below will download the MNIST dataset, then create training and test datasets for us. \n",
    "\n",
    "To get the training and test datasets, we need to use:\n",
    "1. `datasets` module from `torchvision` package\n",
    "2. `transforms` module from `torchvision` package\n",
    "2. `DataLoader` class from `torch.utils.data` package\n",
    "\n",
    "The detail about is explained in part 7 - Loading Image Data."
   ]
  },
  {
   "cell_type": "code",
   "execution_count": 3,
   "metadata": {},
   "outputs": [],
   "source": [
    "from torchvision import datasets, transforms\n",
    "from torch.utils.data import DataLoader"
   ]
  },
  {
   "cell_type": "code",
   "execution_count": 4,
   "metadata": {},
   "outputs": [],
   "source": [
    "# Define a transform to normalize the data\n",
    "transform = transforms.Compose([transforms.ToTensor(),\n",
    "                              transforms.Normalize((0.5, 0.5, 0.5), (0.5, 0.5, 0.5)),\n",
    "                             ])\n",
    "# Download and load the training data\n",
    "trainset = datasets.MNIST('MNIST_data/', download=True, train=True, transform=transform)\n",
    "trainloader = torch.utils.data.DataLoader(trainset, batch_size=64, shuffle=True)\n",
    "\n",
    "# Download and load the test data\n",
    "testset = datasets.MNIST('MNIST_data/', download=True, train=False, transform=transform)\n",
    "testloader = DataLoader(testset, batch_size=64, shuffle=True)"
   ]
  },
  {
   "cell_type": "code",
   "execution_count": 7,
   "metadata": {},
   "outputs": [],
   "source": [
    "dataiter = iter(trainloader)\n",
    "images, labels = dataiter.next()"
   ]
  },
  {
   "cell_type": "markdown",
   "metadata": {},
   "source": [
    "We have the training data loaded into `trainloader` and we make that an iterator with `iter(trainloader)`. We'd use this to loop through the dataset for training, but here I'm just grabbing the first batch so we can check out the data. We can see below that `images` is just a tensor with size (64, 1, 28, 28). So, 64 images per batch, 1 color channel, and 28x28 images."
   ]
  },
  {
   "cell_type": "code",
   "execution_count": 8,
   "metadata": {},
   "outputs": [
    {
     "data": {
      "image/png": "[encoded data removed]",
      "text/plain": [
       "<Figure size 432x288 with 1 Axes>"
      ]
     },
     "metadata": {
      "image/png": {
       "height": 250,
       "width": 253
      }
     },
     "output_type": "display_data"
    }
   ],
   "source": [
    "plt.imshow(images[1].numpy().squeeze(), cmap='Greys_r');"
   ]
  },
  {
   "cell_type": "markdown",
   "metadata": {},
   "source": [
    "## 2. Building networks with PyTorch\n",
    "\n",
    "Here I'll use PyTorch to build a simple feedfoward network to classify the MNIST images. That is, the network will receive a digit image as input and predict the digit in the image. \n",
    "\n",
    "<img src=\"assets/mlp_mnist.png\" width=600px>\n",
    "\n",
    "> To build a neural network with PyTorch, you use the `torch.nn` module. The network itself is a class inheriting from `torch.nn.Module`. From now on, I will refer to it as `nn.module`. Multiple `nn.Module` objects can be strung together to form a bigger `nn.Module` object, which is how we can implement a neural network using many layers. In fact, `nn.Module` can be used to represent an arbitrary function $f$ in PyTorch.\n",
    "\n",
    "The `nn.Module` class has two methods that you have to override.\n",
    "\n",
    "> 1. `__init__` function. This function is invoked when you create an instance of the `nn.Module`. Here you will define layers of the network and specify the various parameters of defined layer such as filters, kernel size for a convolutional layer, dropout probability for the dropout layer.\n",
    "\n",
    "> 2. `forward` function. The class needs to include a `forward` function that implements the forward pass through the network. In this method, you pass some input tensor `x` through each of the operations you defined earlier. This function doesn't need to be explicitly called, and can be run by just calling the `nn.Module` instance like a function with the input as it's argument.\n",
    "\n",
    "> The `torch.nn` module also has functional equivalents for things like ReLUs in `torch.nn.functional`. This module is usually imported as `F`. Then to use a ReLU activation on some layer (which is just a tensor), you'd do `F.relu(x)`. \n",
    "\n",
    "Below are a few different commonly used activation functions.\n",
    "\n",
    "<img src=\"assets/activation.png\" width=700px>\n",
    "\n",
    "So, for this network, I'll build it with three fully connected layers, then a softmax output for predicting classes. The softmax function is similar to the sigmoid in that it squashes inputs between 0 and 1, but it's also normalized so that all the values sum to one like a proper probability distribution."
   ]
  },
  {
   "cell_type": "code",
   "execution_count": 9,
   "metadata": {},
   "outputs": [],
   "source": [
    "from torch import nn\n",
    "from torch import optim\n",
    "import torch.nn.functional as F"
   ]
  },
  {
   "cell_type": "markdown",
   "metadata": {},
   "source": [
    "You define each of the operations separately, like `nn.Linear(784, 128)` for a fully connected linear layer with 784 inputs and 128 units."
   ]
  },
  {
   "cell_type": "code",
   "execution_count": 10,
   "metadata": {
    "scrolled": true
   },
   "outputs": [
    {
     "data": {
      "text/plain": [
       "Network(\n",
       "  (fc1): Linear(in_features=784, out_features=128, bias=True)\n",
       "  (fc2): Linear(in_features=128, out_features=64, bias=True)\n",
       "  (fc3): Linear(in_features=64, out_features=10, bias=True)\n",
       ")"
      ]
     },
     "execution_count": 10,
     "metadata": {},
     "output_type": "execute_result"
    }
   ],
   "source": [
    "class Network(nn.Module):  # extends class nn.Module\n",
    "    def __init__(self):\n",
    "        super().__init__()\n",
    "        # Defining the layers, 128, 64, 10 units each\n",
    "        self.fc1 = nn.Linear(784, 128)\n",
    "        self.fc2 = nn.Linear(128, 64)\n",
    "        # Output layer, 10 units - one for each digit\n",
    "        self.fc3 = nn.Linear(64, 10)\n",
    "        \n",
    "    def forward(self, x):   # required for forward passing the input through the network to generate outputs\n",
    "        ''' Forward pass through the network, returns the output logits '''\n",
    "        \n",
    "        x = self.fc1(x)\n",
    "        print('fc1', x.shape)\n",
    "        x = F.relu(x)\n",
    "        x = self.fc2(x)\n",
    "        print('fc2', x.shape)\n",
    "        x = F.relu(x)\n",
    "        x = self.fc3(x)\n",
    "        print('fc3', x.shape)\n",
    "        x = F.softmax(x, dim=1)\n",
    "        \n",
    "        return x\n",
    "\n",
    "model = Network()\n",
    "model"
   ]
  },
  {
   "cell_type": "markdown",
   "metadata": {},
   "source": [
    "### Initializing weights and biases\n",
    "\n",
    "The weights and such are **automatically initialized** for you, but it's possible to customize how they are initialized. The weights and biases are tensors attached to the layer you defined, you can get them with `model.fc1.weight` for instance."
   ]
  },
  {
   "cell_type": "code",
   "execution_count": 11,
   "metadata": {},
   "outputs": [
    {
     "name": "stdout",
     "output_type": "stream",
     "text": [
      "Parameter containing:\n",
      "tensor([[-1.2919e-04,  1.8027e-02, -2.4070e-02,  ...,  2.3192e-02,\n",
      "          7.6343e-04, -2.6149e-02],\n",
      "        [ 2.7070e-03, -3.3910e-02,  1.3599e-02,  ..., -8.5449e-03,\n",
      "         -2.1471e-02, -1.3953e-02],\n",
      "        [ 1.3540e-02,  3.4468e-02,  1.4013e-02,  ...,  2.1902e-02,\n",
      "          2.9378e-02,  2.6746e-02],\n",
      "        ...,\n",
      "        [ 3.2217e-02,  7.6811e-03, -2.6680e-02,  ..., -3.1356e-02,\n",
      "          7.6893e-03, -3.2188e-02],\n",
      "        [ 2.3533e-02, -3.1775e-02,  4.9805e-03,  ...,  1.2597e-02,\n",
      "          1.7382e-02,  5.5698e-03],\n",
      "        [ 6.4645e-05, -7.6523e-03,  1.7911e-02,  ..., -3.5051e-02,\n",
      "          2.2018e-03, -2.9897e-02]])\n",
      "Parameter containing:\n",
      "tensor(1.00000e-02 *\n",
      "       [ 0.9426, -2.7539,  2.0667, -3.1233,  1.9183, -1.4534, -2.0834,\n",
      "         2.1447,  1.4677, -3.2300,  2.2020,  1.8655,  3.5191, -1.3074,\n",
      "        -2.8695, -0.3459, -0.7400, -0.0750,  1.9413, -0.6475, -0.2905,\n",
      "        -0.1349,  0.0443,  2.9354, -2.4316,  1.6238,  3.3102, -2.6765,\n",
      "         0.5845,  0.4109,  0.4345,  1.2388, -1.8336,  0.7475,  2.0764,\n",
      "         2.7987, -3.1533,  2.1028, -2.9662,  0.8149,  2.9496, -2.7695,\n",
      "        -3.3735,  2.9887, -2.5005,  3.4370, -0.3865,  0.5847, -2.7615,\n",
      "         2.6265,  2.7873, -3.3287, -0.0848,  3.2241,  0.7397, -0.3900,\n",
      "         2.4254,  0.2682,  2.7264,  2.1910,  0.1500,  1.3796, -2.7945,\n",
      "         2.5209, -0.7658,  3.1461, -0.9589, -0.0181, -2.6739,  2.0979,\n",
      "        -0.2299, -1.8739, -1.2806,  1.9775, -0.9880,  3.4689, -0.8178,\n",
      "         3.2772, -0.6311,  3.3633,  2.2343, -3.4393, -0.2269,  2.1589,\n",
      "        -1.2257,  0.5887,  3.0857,  2.6225, -1.1656,  1.7362, -0.6108,\n",
      "         0.8139, -0.3382,  2.2940, -3.2901,  0.0349,  0.2827, -0.1253,\n",
      "        -2.4795,  1.0080,  1.3157,  3.3518,  2.6350, -0.8978, -2.5940,\n",
      "         0.5102,  2.7750, -1.1400, -3.1068,  0.8092,  2.6483, -2.7272,\n",
      "        -3.1179,  2.3803,  0.3580, -2.6047,  0.4067, -0.2154, -0.7534,\n",
      "        -0.7456, -0.4522,  2.7644, -0.3940, -1.3632, -2.2598, -0.3188,\n",
      "         2.7340,  2.0775])\n",
      "True\n",
      "True\n"
     ]
    }
   ],
   "source": [
    "print(model.fc1.weight)\n",
    "print(model.fc1.bias)\n",
    "\n",
    "print(model.fc1.weight.requires_grad)\n",
    "print(model.fc1.bias.requires_grad)"
   ]
  },
  {
   "cell_type": "markdown",
   "metadata": {},
   "source": [
    "For custom initialization, we want to modify these tensors in place. \n",
    "\n",
    "> These are actually autograd *Variables*, so we need to get back the actual tensors with `model.fc1.weight.data`. \n",
    "\n",
    "Once we have the tensors, we can fill them with zeros (for biases) or random normal values."
   ]
  },
  {
   "cell_type": "code",
   "execution_count": 12,
   "metadata": {},
   "outputs": [
    {
     "data": {
      "text/plain": [
       "tensor([ 0.,  0.,  0.,  0.,  0.,  0.,  0.,  0.,  0.,  0.,  0.,  0.,\n",
       "         0.,  0.,  0.,  0.,  0.,  0.,  0.,  0.,  0.,  0.,  0.,  0.,\n",
       "         0.,  0.,  0.,  0.,  0.,  0.,  0.,  0.,  0.,  0.,  0.,  0.,\n",
       "         0.,  0.,  0.,  0.,  0.,  0.,  0.,  0.,  0.,  0.,  0.,  0.,\n",
       "         0.,  0.,  0.,  0.,  0.,  0.,  0.,  0.,  0.,  0.,  0.,  0.,\n",
       "         0.,  0.,  0.,  0.,  0.,  0.,  0.,  0.,  0.,  0.,  0.,  0.,\n",
       "         0.,  0.,  0.,  0.,  0.,  0.,  0.,  0.,  0.,  0.,  0.,  0.,\n",
       "         0.,  0.,  0.,  0.,  0.,  0.,  0.,  0.,  0.,  0.,  0.,  0.,\n",
       "         0.,  0.,  0.,  0.,  0.,  0.,  0.,  0.,  0.,  0.,  0.,  0.,\n",
       "         0.,  0.,  0.,  0.,  0.,  0.,  0.,  0.,  0.,  0.,  0.,  0.,\n",
       "         0.,  0.,  0.,  0.,  0.,  0.,  0.,  0.])"
      ]
     },
     "execution_count": 12,
     "metadata": {},
     "output_type": "execute_result"
    }
   ],
   "source": [
    "# Set biases to all zeros\n",
    "model.fc1.bias.data.fill_(0)"
   ]
  },
  {
   "cell_type": "code",
   "execution_count": 13,
   "metadata": {},
   "outputs": [
    {
     "data": {
      "text/plain": [
       "tensor([[ 1.4686e-02,  1.8936e-02, -1.0641e-02,  ..., -6.8522e-03,\n",
       "          4.4845e-03, -3.8578e-04],\n",
       "        [-1.5777e-02,  1.4115e-02, -3.0865e-03,  ..., -1.2417e-02,\n",
       "          1.2177e-02, -1.7862e-02],\n",
       "        [-5.2109e-03,  1.2753e-02,  8.3257e-03,  ..., -9.7636e-04,\n",
       "          8.7166e-04, -5.0570e-03],\n",
       "        ...,\n",
       "        [-3.0497e-03, -7.0987e-03, -7.7843e-04,  ..., -4.6572e-03,\n",
       "          1.0536e-02,  9.1249e-03],\n",
       "        [-1.4321e-02, -3.1273e-03, -9.6450e-03,  ..., -1.6045e-02,\n",
       "          6.5339e-03, -6.2764e-03],\n",
       "        [-1.0581e-02, -1.8040e-02, -2.3279e-03,  ..., -4.5554e-04,\n",
       "          8.1578e-03, -7.5765e-04]])"
      ]
     },
     "execution_count": 13,
     "metadata": {},
     "output_type": "execute_result"
    }
   ],
   "source": [
    "# sample from random normal with standard dev = 0.01\n",
    "model.fc1.weight.data.normal_(std=0.01)"
   ]
  },
  {
   "cell_type": "markdown",
   "metadata": {},
   "source": [
    "### Forward pass\n",
    "\n",
    "Now that we have a network, let's see what happens when we pass in an image. This is called the forward pass. We're going to convert the image data into a tensor, then pass it through the operations defined by the network architecture."
   ]
  },
  {
   "cell_type": "code",
   "execution_count": 22,
   "metadata": {},
   "outputs": [
    {
     "name": "stdout",
     "output_type": "stream",
     "text": [
      "torch.Size([64, 784])\n"
     ]
    },
    {
     "data": {
      "image/png": "[encoded data removed]",
      "text/plain": [
       "<Figure size 432x648 with 2 Axes>"
      ]
     },
     "metadata": {
      "image/png": {
       "height": 224,
       "width": 423
      }
     },
     "output_type": "display_data"
    }
   ],
   "source": [
    "# Grab some data \n",
    "dataiter = iter(trainloader)\n",
    "images, labels = dataiter.next()\n",
    "\n",
    "# # Resize images into a 1D vector, new shape is (batch size, color channels, image pixels) \n",
    "# # images.resize_(64, 1, 784)\n",
    "# images.resize_(images.shape[0], 1, 784) \n",
    "\n",
    "# print(images.shape)\n",
    "\n",
    "# # Forward pass through the network\n",
    "img_idx = 0\n",
    "# print(images[img_idx,:].shape)\n",
    "# ps = model.forward(images[img_idx,:])\n",
    "\n",
    "images.resize_(images.shape[0], 784) \n",
    "print(images.shape)\n",
    "outputs = model.forward(images)\n",
    "\n",
    "img = images[img_idx]\n",
    "prob_dist = outputs[img_idx]\n",
    "helper.view_classify(img.view(1, 28, 28), prob_dist)"
   ]
  },
  {
   "cell_type": "markdown",
   "metadata": {},
   "source": [
    "As you can see above, our network has basically no idea what this digit is. It's because we haven't trained it yet, all the weights are random!"
   ]
  },
  {
   "cell_type": "markdown",
   "metadata": {},
   "source": [
    "## 3. Pytorch Sequential Model\n",
    "\n",
    "PyTorch provides `nn.Sequential` ([documentation](https://pytorch.org/docs/master/nn.html#torch.nn.Sequential)) class, which a convenient way to build networks where a input `Tensor` is passed sequentially through layers of operations. When initiating this class we can pass a list of `nn.Module` objects in a particular sequence. The object returned by `nn.Sequential` is itself a `nn.Module` object. When this object is run with an input, it sequentially runs the input through all the `nn.Module` object we passed to it, in the very same order as we passed them."
   ]
  },
  {
   "cell_type": "code",
   "execution_count": 16,
   "metadata": {},
   "outputs": [
    {
     "name": "stdout",
     "output_type": "stream",
     "text": [
      "Sequential(\n",
      "  (0): Linear(in_features=784, out_features=128, bias=True)\n",
      "  (1): ReLU()\n",
      "  (2): Linear(in_features=128, out_features=64, bias=True)\n",
      "  (3): ReLU()\n",
      "  (4): Linear(in_features=64, out_features=10, bias=True)\n",
      "  (5): Softmax()\n",
      ")\n"
     ]
    },
    {
     "data": {
      "image/png": "[encoded data removed]",
      "text/plain": [
       "<Figure size 432x648 with 2 Axes>"
      ]
     },
     "metadata": {
      "image/png": {
       "height": 224,
       "width": 423
      }
     },
     "output_type": "display_data"
    }
   ],
   "source": [
    "# Hyperparameters for our network\n",
    "input_size = 784\n",
    "hidden_sizes = [128, 64]\n",
    "output_size = 10\n",
    "\n",
    "# Build a feed-forward network\n",
    "model = nn.Sequential(nn.Linear(input_size, hidden_sizes[0]),\n",
    "                      nn.ReLU(),\n",
    "                      nn.Linear(hidden_sizes[0], hidden_sizes[1]),\n",
    "                      nn.ReLU(),\n",
    "                      nn.Linear(hidden_sizes[1], output_size),\n",
    "                      nn.Softmax(dim=1))\n",
    "print(model)\n",
    "\n",
    "# Forward pass through the network and display output\n",
    "images, labels = next(iter(trainloader))\n",
    "images.resize_(images.shape[0], 1, 784)\n",
    "ps = model.forward(images[0,:])\n",
    "helper.view_classify(images[0].view(1, 28, 28), ps)"
   ]
  },
  {
   "cell_type": "markdown",
   "metadata": {},
   "source": [
    "You can also pass in an `OrderedDict` to name the individual layers and operations.\n",
    "\n",
    "> Note that a dictionary keys must be unique, so _each operation must have a different name_."
   ]
  },
  {
   "cell_type": "code",
   "execution_count": 45,
   "metadata": {},
   "outputs": [
    {
     "data": {
      "text/plain": [
       "Sequential(\n",
       "  (fc1): Linear(in_features=784, out_features=128, bias=True)\n",
       "  (relu1): ReLU()\n",
       "  (fc2): Linear(in_features=128, out_features=64, bias=True)\n",
       "  (relu2): ReLU()\n",
       "  (output): Linear(in_features=64, out_features=10, bias=True)\n",
       "  (softmax): Softmax()\n",
       ")"
      ]
     },
     "execution_count": 45,
     "metadata": {},
     "output_type": "execute_result"
    }
   ],
   "source": [
    "from collections import OrderedDict\n",
    "model = nn.Sequential(OrderedDict([\n",
    "                      ('fc1', nn.Linear(input_size, hidden_sizes[0])),\n",
    "                      ('relu1', nn.ReLU()),\n",
    "                      ('fc2', nn.Linear(hidden_sizes[0], hidden_sizes[1])),\n",
    "                      ('relu2', nn.ReLU()),\n",
    "                      ('output', nn.Linear(hidden_sizes[1], output_size)),\n",
    "                      ('softmax', nn.Softmax(dim=1))]))\n",
    "model"
   ]
  },
  {
   "cell_type": "markdown",
   "metadata": {},
   "source": [
    "## 4. Build Your Neural Network\n",
    "\n",
    "Now it's your turn to build a simple network, use any method I've covered so far. In the next notebook, you'll learn how to train a network so it can make good predictions.\n",
    "\n",
    "**Exercise:** Build a network to classify the MNIST images. The network should:\n",
    "* Use 3 hidden layers. \n",
    "* Use 400 units in the first hidden layer, 200 units in the second layer, and 100 units in the third layer. \n",
    "* Use ReLU activation function for each hidden layer, \n",
    "* Use softmax on the output layer. "
   ]
  },
  {
   "cell_type": "code",
   "execution_count": 17,
   "metadata": {},
   "outputs": [
    {
     "name": "stdout",
     "output_type": "stream",
     "text": [
      "FFNN(\n",
      "  (fn1): Linear(in_features=784, out_features=400, bias=True)\n",
      "  (fn2): Linear(in_features=400, out_features=200, bias=True)\n",
      "  (fn3): Linear(in_features=200, out_features=100, bias=True)\n",
      "  (out): Linear(in_features=100, out_features=10, bias=True)\n",
      ")\n"
     ]
    }
   ],
   "source": [
    "class FFNN(nn.Module):\n",
    "    def __init__(self):\n",
    "        super().__init__()\n",
    "        \n",
    "        # define hidden layers\n",
    "        self.fn1 = nn.Linear(784, 400)\n",
    "        self.fn2 = nn.Linear(400, 200)\n",
    "        self.fn3 = nn.Linear(200, 100)\n",
    "        \n",
    "        # define output layers\n",
    "        self.out = nn.Linear(100, 10)\n",
    "        \n",
    "    def forward(self, x):\n",
    "        \n",
    "        x = self.fn1(x)\n",
    "        x = F.relu(x)\n",
    "        x = self.fn2(x)\n",
    "        x = F.relu(x)\n",
    "        x = self.fn3(x)\n",
    "        x = F.relu(x)\n",
    "        x = self.out(x)\n",
    "        \n",
    "        output = F.softmax(x, dim=1)\n",
    "        return output\n",
    "\n",
    "ffnn = FFNN()\n",
    "print(ffnn)"
   ]
  },
  {
   "cell_type": "code",
   "execution_count": 23,
   "metadata": {},
   "outputs": [
    {
     "name": "stdout",
     "output_type": "stream",
     "text": [
      "torch.Size([1, 784])\n"
     ]
    },
    {
     "data": {
      "image/png": "[encoded data removed]",
      "text/plain": [
       "<Figure size 432x648 with 2 Axes>"
      ]
     },
     "metadata": {
      "image/png": {
       "height": 224,
       "width": 423
      }
     },
     "output_type": "display_data"
    }
   ],
   "source": [
    "## Run this cell with your model to make sure it works ##\n",
    "# Forward pass through the network and display output\n",
    "ffnn = FFNN()\n",
    "images, labels = next(iter(trainloader))\n",
    "images.resize_(images.shape[0], 1, 784)\n",
    "single_img = images[0,:]\n",
    "print(single_img.shape)\n",
    "ps = ffnn.forward(single_img)\n",
    "helper.view_classify(images[0].view(1, 28, 28), ps)"
   ]
  },
  {
   "cell_type": "code",
   "execution_count": null,
   "metadata": {},
   "outputs": [],
   "source": []
  }
 ],
 "metadata": {
  "kernelspec": {
   "display_name": "opencv",
   "language": "python",
   "name": "opencv"
  },
  "language_info": {
   "codemirror_mode": {
    "name": "ipython",
    "version": 3
   },
   "file_extension": ".py",
   "mimetype": "text/x-python",
   "name": "python",
   "nbconvert_exporter": "python",
   "pygments_lexer": "ipython3",
   "version": "3.6.5"
  }
 },
 "nbformat": 4,
 "nbformat_minor": 2
}
